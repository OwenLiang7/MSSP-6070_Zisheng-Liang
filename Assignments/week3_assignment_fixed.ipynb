{
 "cells": [
  {
   "cell_type": "code",
   "execution_count": null,
   "metadata": {
    "id": "Cd3NJcjf7P5a"
   },
   "outputs": [],
   "source": [
    "# Week 3 Participation Activity\n",
    "# Source: Sweigart, A. (2019). Automate the Boring Stuff with Python, 2nd Edition: Practical Programming for Total Beginners. Chapter 3. No Starch Press.\n",
    "# Reference: https://automatetheboringstuff.com/2e/chapter3/"
   ]
  },
  {
   "cell_type": "markdown",
   "metadata": {
    "id": "3p0iG0hM91zB"
   },
   "source": [
    "Q3a: When does the code in a function execute?"
   ]
  },
  {
   "cell_type": "code",
   "execution_count": 6,
   "metadata": {
    "colab": {
     "base_uri": "https://localhost:8080/"
    },
    "id": "bXU_rYl-7Y79",
    "outputId": "31c2bb24-567a-4fab-bff2-68cafa374702"
   },
   "outputs": [
    {
     "name": "stdout",
     "output_type": "stream",
     "text": [
      "This code runs only when the function is called.\n"
     ]
    }
   ],
   "source": [
    "\n",
    "\n",
    "def example_function():\n",
    "    print(\"This code runs only when the function is called.\")\n",
    "\n",
    "# Defining does not execute anything\n",
    "# Calling executes:\n",
    "example_function()\n"
   ]
  },
  {
   "cell_type": "markdown",
   "id": "2cadf84c",
   "metadata": {},
   "source": [
    "Answer: The code inside a function executes **when the function is called**, not when it is defined."
   ]
  },
  {
   "cell_type": "markdown",
   "metadata": {
    "id": "oz1veCF-98FY"
   },
   "source": [
    "Q3b: Global scopes and local scopes"
   ]
  },
  {
   "cell_type": "code",
   "execution_count": 2,
   "metadata": {
    "colab": {
     "base_uri": "https://localhost:8080/"
    },
    "id": "wCvgNe0e90rV",
    "outputId": "22a7bdf9-d6e5-4a4f-b049-cceb10ca068a"
   },
   "outputs": [
    {
     "name": "stdout",
     "output_type": "stream",
     "text": [
      "Inside the function, y = 5\n",
      "In the global scope, x = 10\n"
     ]
    }
   ],
   "source": [
    "# Global scope: only ONE per program\n",
    "# Local scopes: created whenever a function is called\n",
    "\n",
    "x = 10  # global variable\n",
    "\n",
    "def local_scope_demo():\n",
    "    y = 5  # local variable\n",
    "    print(\"Inside the function, y =\", y)\n",
    "\n",
    "local_scope_demo()\n",
    "print(\"In the global scope, x =\", x)\n"
   ]
  },
  {
   "cell_type": "markdown",
   "metadata": {
    "id": "0s-KRM9W-CFP"
   },
   "source": [
    "Answer: There is one global scope in a program, but there can be many local scopes, one per function call."
   ]
  },
  {
   "cell_type": "markdown",
   "metadata": {
    "id": "cAhhH1hB-Gh3"
   },
   "source": [
    "Q3c: What happens to local variables when a function call returns?"
   ]
  },
  {
   "cell_type": "code",
   "execution_count": 3,
   "metadata": {
    "colab": {
     "base_uri": "https://localhost:8080/"
    },
    "id": "TkjtqEah-HeS",
    "outputId": "412afc08-f358-41be-87fb-7e8e2fcb97f0"
   },
   "outputs": [
    {
     "name": "stdout",
     "output_type": "stream",
     "text": [
      "Inside the function, z = 100\n"
     ]
    }
   ],
   "source": [
    "def demo_scope():\n",
    "    z = 100\n",
    "    print(\"Inside the function, z =\", z)\n",
    "\n",
    "demo_scope()\n",
    "# z is destroyed here (no longer exists)\n"
   ]
  },
  {
   "cell_type": "markdown",
   "metadata": {
    "id": "ejRg_a2--i2H"
   },
   "source": [
    "Answer: Variables in a local scope are destroyed when the function returns."
   ]
  },
  {
   "cell_type": "markdown",
   "metadata": {
    "id": "Ju1Xxeva-jkd"
   },
   "source": [
    "Q3d: Prevent a program from crashing with errors"
   ]
  },
  {
   "cell_type": "code",
   "execution_count": 7,
   "metadata": {
    "colab": {
     "base_uri": "https://localhost:8080/"
    },
    "id": "Rb9k75sk-lK0",
    "outputId": "4476122a-63ae-40b8-8828-3d29cd312e5e"
   },
   "outputs": [
    {
     "name": "stdout",
     "output_type": "stream",
     "text": [
      "An error occurred, but the program did not crash.\n"
     ]
    }
   ],
   "source": [
    "# Use try/except blocks to handle errors\n",
    "\n",
    "try:\n",
    "    num = int(\"hello\")  # This will cause a ValueError\n",
    "except ValueError:\n",
    "    print(\"An error occurred, but the program did not crash.\")\n"
   ]
  },
  {
   "cell_type": "markdown",
   "metadata": {
    "id": "2WEIrrxI-pw0"
   },
   "source": [
    "Answer: Use try/except statements to handle errors."
   ]
  },
  {
   "cell_type": "markdown",
   "metadata": {
    "id": "8Nn7lU33-rtD"
   },
   "source": [
    "Practice Program: Collatz Sequence"
   ]
  },
  {
   "cell_type": "code",
   "execution_count": 9,
   "metadata": {
    "colab": {
     "base_uri": "https://localhost:8080/"
    },
    "id": "qzPw_QTp_cC1",
    "outputId": "81bcb681-e4c4-453b-f9cd-9c6cfa6629a8"
   },
   "outputs": [
    {
     "name": "stdout",
     "output_type": "stream",
     "text": [
      "16\n",
      "8\n",
      "4\n",
      "2\n",
      "1\n"
     ]
    }
   ],
   "source": [
    "# Collatz Sequence Project (Chapter 3)\n",
    "# Keep transforming the number until it reaches 1\n",
    "\n",
    "def collatz(number):\n",
    "    if number % 2 == 0:\n",
    "        result = number // 2\n",
    "    else:\n",
    "        result = 3 * number + 1\n",
    "    print(result)\n",
    "    return result\n",
    "\n",
    "try:\n",
    "    n = int(input(\"Enter a number: \"))\n",
    "    while n != 1:\n",
    "        n = collatz(n)\n",
    "except ValueError:\n",
    "    print(\"You must enter an integer.\")\n"
   ]
  },
  {
   "cell_type": "markdown",
   "id": "256a92af",
   "metadata": {},
   "source": [
    "### Reference\n",
    "\n",
    "Sweigart, A. (2019). *Automate the Boring Stuff with Python, 2nd Edition: Practical Programming for Total Beginners*. Chapter 3. No Starch Press. Available at: https://automatetheboringstuff.com/2e/chapter3/"
   ]
  }
 ],
 "metadata": {
  "colab": {
   "provenance": []
  },
  "kernelspec": {
   "display_name": "Python 3",
   "name": "python3"
  },
  "language_info": {
   "codemirror_mode": {
    "name": "ipython",
    "version": 3
   },
   "file_extension": ".py",
   "mimetype": "text/x-python",
   "name": "python",
   "nbconvert_exporter": "python",
   "pygments_lexer": "ipython3",
   "version": "3.10.7"
  }
 },
 "nbformat": 4,
 "nbformat_minor": 0
}
