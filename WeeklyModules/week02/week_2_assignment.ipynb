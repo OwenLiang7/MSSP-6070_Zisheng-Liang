{
  "nbformat": 4,
  "nbformat_minor": 0,
  "metadata": {
    "colab": {
      "provenance": []
    },
    "kernelspec": {
      "name": "python3",
      "display_name": "Python 3"
    },
    "language_info": {
      "name": "python"
    }
  },
  "cells": [
    {
      "cell_type": "code",
      "execution_count": null,
      "metadata": {
        "colab": {
          "base_uri": "https://localhost:8080/"
        },
        "id": "gRtpjIfX3qI6",
        "outputId": "0abb3667-4e39-4f52-dbab-e9fe0e6064e0"
      },
      "outputs": [
        {
          "output_type": "stream",
          "name": "stdout",
          "text": [
            "[2, 4, 'hello', 8, 10]\n"
          ]
        }
      ],
      "source": [
        "# Step 2\n",
        "# Step a: create variable spam\n",
        "spam = [2, 4, 6, 8, 10]\n",
        "\n",
        "# Step b: change the third value to \"hello\"\n",
        "spam[2] = \"hello\"\n",
        "\n",
        "# print to check the result\n",
        "print(spam)\n"
      ]
    },
    {
      "cell_type": "code",
      "source": [
        "# Step 3\n",
        "# Step a: Create variable letters\n",
        "letters = ['a', 'b', 'c', 'd']\n",
        "\n",
        "# Step b: letters[int(int('3'*2)//11)]\n",
        "result_b = letters[int(int('3'*2)//11)]\n",
        "print(\"letters[int(int('3'*2)//11)] =\", result_b)\n",
        "print(\"Explanation: '3'*2 = '33' -> int('33') = 33 -> 33//11 = 3 -> letters[3] = 'd'\")\n",
        "\n",
        "# Step c: letters[-1]\n",
        "result_c = letters[-1]\n",
        "print(\"letters[-1] =\", result_c)\n",
        "print(\"Explanation: Index -1 means the last element, so it returns 'd'\")\n",
        "\n",
        "# Step d: letters[:2]\n",
        "result_d = letters[:2]\n",
        "print(\"letters[:2] =\", result_d)\n",
        "print(\"Explanation: [:2] slices from start up to index 2 (exclusive), so it returns ['a', 'b']\")\n"
      ],
      "metadata": {
        "colab": {
          "base_uri": "https://localhost:8080/"
        },
        "id": "qoI7Z7__4iiF",
        "outputId": "e1f00d69-a705-41eb-9fd4-5423a725b9a7"
      },
      "execution_count": null,
      "outputs": [
        {
          "output_type": "stream",
          "name": "stdout",
          "text": [
            "letters[int(int('3'*2)//11)] = d\n",
            "Explanation: '3'*2 = '33' -> int('33') = 33 -> 33//11 = 3 -> letters[3] = 'd'\n",
            "letters[-1] = d\n",
            "Explanation: Index -1 means the last element, so it returns 'd'\n",
            "letters[:2] = ['a', 'b']\n",
            "Explanation: [:2] slices from start up to index 2 (exclusive), so it returns ['a', 'b']\n"
          ]
        }
      ]
    },
    {
      "cell_type": "code",
      "source": [
        "# Step 4: Converting between list and tuple\n",
        "\n",
        "# A sample list\n",
        "my_list = [1, 2, 3, 4]\n",
        "\n",
        "# Convert list to tuple\n",
        "my_tuple = tuple(my_list)\n",
        "print(\"Tuple form of list:\", my_tuple)\n",
        "\n",
        "# Convert tuple back to list\n",
        "back_to_list = list(my_tuple)\n",
        "print(\"List form of tuple:\", back_to_list)\n"
      ],
      "metadata": {
        "colab": {
          "base_uri": "https://localhost:8080/"
        },
        "id": "3RcnByO76SHu",
        "outputId": "e288c338-3665-4984-85ed-5b13fa56055b"
      },
      "execution_count": null,
      "outputs": [
        {
          "output_type": "stream",
          "name": "stdout",
          "text": [
            "Tuple form of list: (1, 2, 3, 4)\n",
            "List form of tuple: [1, 2, 3, 4]\n"
          ]
        }
      ]
    },
    {
      "cell_type": "code",
      "source": [
        "# Step 5: Practice program\n",
        "\n",
        "def comma_code(items):\n",
        "    \"\"\"\n",
        "    Accepts a list and returns a string with all items separated by commas,\n",
        "    and 'and' before the last item.\n",
        "    \"\"\"\n",
        "    if len(items) == 0:\n",
        "        return \"\"\n",
        "    elif len(items) == 1:\n",
        "        return items[0]\n",
        "    else:\n",
        "        return ', '.join(items[:-1]) + ', and ' + items[-1]\n",
        "\n",
        "# Test with given spam list\n",
        "spam = ['apples', 'bananas', 'tofu', 'cats']\n",
        "result = comma_code(spam)\n",
        "print(\"Original list:\", spam)\n",
        "print(\"Formatted string:\", result)\n"
      ],
      "metadata": {
        "colab": {
          "base_uri": "https://localhost:8080/"
        },
        "id": "ofrC4Dke6gc1",
        "outputId": "9299ef26-fd1b-46c7-dde5-a450ba4497f8"
      },
      "execution_count": null,
      "outputs": [
        {
          "output_type": "stream",
          "name": "stdout",
          "text": [
            "Original list: ['apples', 'bananas', 'tofu', 'cats']\n",
            "Formatted string: apples, bananas, tofu, and cats\n"
          ]
        }
      ]
    }
  ]
}